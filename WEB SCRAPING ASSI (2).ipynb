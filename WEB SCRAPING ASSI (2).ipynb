{
 "cells": [
  {
   "cell_type": "markdown",
   "id": "74b2b0d2-227e-4640-963e-c2235353e385",
   "metadata": {},
   "source": [
    "# ANS = 3"
   ]
  },
  {
   "cell_type": "code",
   "execution_count": 1,
   "id": "d8a502ef-9ad6-4116-b8b3-3af38199afeb",
   "metadata": {},
   "outputs": [
    {
     "name": "stdout",
     "output_type": "stream",
     "text": [
      "Requirement already satisfied: selenium in c:\\users\\admin\\anaconda3\\lib\\site-packages (4.23.1)\n",
      "Requirement already satisfied: urllib3[socks]<3,>=1.26 in c:\\users\\admin\\anaconda3\\lib\\site-packages (from selenium) (1.26.16)\n",
      "Requirement already satisfied: trio~=0.17 in c:\\users\\admin\\anaconda3\\lib\\site-packages (from selenium) (0.26.2)\n",
      "Requirement already satisfied: trio-websocket~=0.9 in c:\\users\\admin\\anaconda3\\lib\\site-packages (from selenium) (0.11.1)\n",
      "Requirement already satisfied: certifi>=2021.10.8 in c:\\users\\admin\\anaconda3\\lib\\site-packages (from selenium) (2023.11.17)\n",
      "Requirement already satisfied: typing_extensions~=4.9 in c:\\users\\admin\\anaconda3\\lib\\site-packages (from selenium) (4.12.2)\n",
      "Requirement already satisfied: websocket-client~=1.8 in c:\\users\\admin\\anaconda3\\lib\\site-packages (from selenium) (1.8.0)\n",
      "Requirement already satisfied: attrs>=23.2.0 in c:\\users\\admin\\anaconda3\\lib\\site-packages (from trio~=0.17->selenium) (24.2.0)\n",
      "Requirement already satisfied: sortedcontainers in c:\\users\\admin\\anaconda3\\lib\\site-packages (from trio~=0.17->selenium) (2.4.0)\n",
      "Requirement already satisfied: idna in c:\\users\\admin\\anaconda3\\lib\\site-packages (from trio~=0.17->selenium) (3.4)\n",
      "Requirement already satisfied: outcome in c:\\users\\admin\\anaconda3\\lib\\site-packages (from trio~=0.17->selenium) (1.3.0.post0)\n",
      "Requirement already satisfied: sniffio>=1.3.0 in c:\\users\\admin\\anaconda3\\lib\\site-packages (from trio~=0.17->selenium) (1.3.1)\n",
      "Requirement already satisfied: cffi>=1.14 in c:\\users\\admin\\anaconda3\\lib\\site-packages (from trio~=0.17->selenium) (1.15.1)\n",
      "Requirement already satisfied: wsproto>=0.14 in c:\\users\\admin\\anaconda3\\lib\\site-packages (from trio-websocket~=0.9->selenium) (1.2.0)\n",
      "Requirement already satisfied: PySocks!=1.5.7,<2.0,>=1.5.6 in c:\\users\\admin\\anaconda3\\lib\\site-packages (from urllib3[socks]<3,>=1.26->selenium) (1.7.1)\n",
      "Requirement already satisfied: pycparser in c:\\users\\admin\\anaconda3\\lib\\site-packages (from cffi>=1.14->trio~=0.17->selenium) (2.21)\n",
      "Requirement already satisfied: h11<1,>=0.9.0 in c:\\users\\admin\\anaconda3\\lib\\site-packages (from wsproto>=0.14->trio-websocket~=0.9->selenium) (0.14.0)\n"
     ]
    }
   ],
   "source": [
    "!pip install selenium"
   ]
  },
  {
   "cell_type": "code",
   "execution_count": 114,
   "id": "f4c76dcb-c1b8-482f-b3cb-6f3ed4b77593",
   "metadata": {},
   "outputs": [],
   "source": [
    "import selenium\n",
    "import pandas as pd\n",
    "import time\n",
    "from selenium import webdriver\n",
    "import warnings\n",
    "warnings.filterwarnings('ignore')\n",
    "from selenium.webdriver.common.by import By"
   ]
  },
  {
   "cell_type": "code",
   "execution_count": 115,
   "id": "52a3e35e-9b9a-4969-b511-305764b4bb9f",
   "metadata": {},
   "outputs": [],
   "source": [
    "driver = webdriver.Chrome()"
   ]
  },
  {
   "cell_type": "code",
   "execution_count": 116,
   "id": "6a725398-2b60-4136-9162-4c3f6759cb23",
   "metadata": {},
   "outputs": [],
   "source": [
    "driver.get(\"https://www.flipkart.com/apple-iphone-11-black-64-gb/product-reviews/itm4e5041ba101fd?pid=MOBFWQ6BXGJCEYNY&lid=LSTMOBFWQ6BXGJCEYNYZXSHRJ&marketplace=FLIPKART\")"
   ]
  },
  {
   "cell_type": "code",
   "execution_count": 17,
   "id": "7fd16464-f08d-4b0b-acf8-56f5de6cf086",
   "metadata": {},
   "outputs": [
    {
     "name": "stdout",
     "output_type": "stream",
     "text": [
      "['5', '5', '5', '5', '5', '5', '5', '5', '5', '5']\n"
     ]
    }
   ],
   "source": [
    "phone_ratings = []\n",
    "\n",
    "ratings = driver.find_elements(By.XPATH,'//div[@class=\"XQDdHH Ga3i8K\"]')\n",
    "for i in ratings:\n",
    "    rating = i.text\n",
    "    phone_ratings.append(rating)\n",
    "\n",
    "print(phone_ratings)"
   ]
  },
  {
   "cell_type": "code",
   "execution_count": 19,
   "id": "93d06ba9-dff3-4f42-8584-051b9732752e",
   "metadata": {},
   "outputs": [
    {
     "name": "stdout",
     "output_type": "stream",
     "text": [
      "['5', '5', '5', '5', '5', '5', '5', '5', '5', '5', '5', '5', '5', '5', '5', '5', '5', '5', '5', '5', '5', '5', '5', '5', '5', '5', '5', '5', '5', '5', '5', '5', '5', '5', '5', '5', '5', '5', '5', '5', '5', '5', '5', '5', '5', '5', '5', '5', '5', '5', '5', '5', '5', '5', '5', '5', '5', '5', '5', '5', '5', '5', '5', '5', '5', '5', '5', '5', '5', '5', '5', '5', '5', '5', '5', '5', '5', '5', '5', '5', '5', '5', '5', '5', '5', '5', '5', '5', '5', '5', '5', '5', '5', '5', '5', '5', '5', '5', '5', '5']\n"
     ]
    }
   ],
   "source": [
    "phone_ratings=[]\n",
    "\n",
    "start =0\n",
    "end =10\n",
    "for page in range(start,end):\n",
    "    phones = driver.find_elements(By.XPATH,'//div[@class=\"XQDdHH Ga3i8K\"]')\n",
    "    for i in phones:\n",
    "      phone_ratings.append(i.text)\n",
    "\n",
    "next_Button =driver.find_element(By.XPATH,'/html/body/div/div/div[3]/div/div/div[2]/div[13]/div/div/nav/a[11]')\n",
    "next_Button.click ()\n",
    "time.sleep(3)\n",
    "print(phone_ratings)"
   ]
  },
  {
   "cell_type": "code",
   "execution_count": 20,
   "id": "4748c820-edbe-4031-b40f-84a37de0f6c3",
   "metadata": {},
   "outputs": [
    {
     "name": "stdout",
     "output_type": "stream",
     "text": [
      "100\n"
     ]
    }
   ],
   "source": [
    "print(len(phone_ratings))"
   ]
  },
  {
   "cell_type": "code",
   "execution_count": 117,
   "id": "586ec46e-e381-48f3-9cf0-0346f9d512a3",
   "metadata": {},
   "outputs": [
    {
     "name": "stdout",
     "output_type": "stream",
     "text": [
      "['Brilliant', 'Must buy!', 'Fabulous!', 'Perfect product!', 'Fabulous!', 'Awesome', 'Brilliant', 'Excellent', 'Terrific purchase', 'Super!']\n"
     ]
    }
   ],
   "source": [
    "review_summary = []\n",
    "\n",
    "reviews = driver.find_elements(By.XPATH,'//p[@class=\"z9E0IG\"]')\n",
    "for i in reviews:\n",
    "    review = i.text\n",
    "    review_summary.append(review)\n",
    "\n",
    "print(review_summary)"
   ]
  },
  {
   "cell_type": "code",
   "execution_count": 118,
   "id": "992102b4-9ea5-4a29-aed5-8cbf72b2219a",
   "metadata": {},
   "outputs": [
    {
     "name": "stdout",
     "output_type": "stream",
     "text": [
      "10\n"
     ]
    }
   ],
   "source": [
    "print(len(review_summary))"
   ]
  },
  {
   "cell_type": "code",
   "execution_count": 126,
   "id": "1215cb9f-0894-4e68-a295-b443072d5312",
   "metadata": {},
   "outputs": [
    {
     "name": "stdout",
     "output_type": "stream",
     "text": [
      "['Worth the money', 'Fabulous!', 'Just wow!', 'Classy product', 'Best in the market!', 'Just wow!', 'Wonderful', 'Simply awesome', 'Fabulous!', 'Highly recommended', 'Worth the money', 'Fabulous!', 'Just wow!', 'Classy product', 'Best in the market!', 'Just wow!', 'Wonderful', 'Simply awesome', 'Fabulous!', 'Highly recommended', 'Worth the money', 'Fabulous!', 'Just wow!', 'Classy product', 'Best in the market!', 'Just wow!', 'Wonderful', 'Simply awesome', 'Fabulous!', 'Highly recommended', 'Worth the money', 'Fabulous!', 'Just wow!', 'Classy product', 'Best in the market!', 'Just wow!', 'Wonderful', 'Simply awesome', 'Fabulous!', 'Highly recommended', 'Worth the money', 'Fabulous!', 'Just wow!', 'Classy product', 'Best in the market!', 'Just wow!', 'Wonderful', 'Simply awesome', 'Fabulous!', 'Highly recommended', 'Worth the money', 'Fabulous!', 'Just wow!', 'Classy product', 'Best in the market!', 'Just wow!', 'Wonderful', 'Simply awesome', 'Fabulous!', 'Highly recommended', 'Worth the money', 'Fabulous!', 'Just wow!', 'Classy product', 'Best in the market!', 'Just wow!', 'Wonderful', 'Simply awesome', 'Fabulous!', 'Highly recommended', 'Worth the money', 'Fabulous!', 'Just wow!', 'Classy product', 'Best in the market!', 'Just wow!', 'Wonderful', 'Simply awesome', 'Fabulous!', 'Highly recommended', 'Worth the money', 'Fabulous!', 'Just wow!', 'Classy product', 'Best in the market!', 'Just wow!', 'Wonderful', 'Simply awesome', 'Fabulous!', 'Highly recommended', 'Worth the money', 'Fabulous!', 'Just wow!', 'Classy product', 'Best in the market!', 'Just wow!', 'Wonderful', 'Simply awesome', 'Fabulous!', 'Highly recommended']\n"
     ]
    }
   ],
   "source": [
    "review_summary = []\n",
    "\n",
    "start =0\n",
    "end =10\n",
    "for page in range(start,end):\n",
    "    reviews = driver.find_elements(By.XPATH,'//p[@class=\"z9E0IG\"]')\n",
    "    for i in reviews:\n",
    "        review_summary.append(i.text)\n",
    "        \n",
    "next_Button =driver.find_element(By.XPATH,'/html/body/div/div/div[3]/div/div/div[2]/div[13]/div/div/nav/a[12]')\n",
    "next_Button.click ()\n",
    "time.sleep(3)\n",
    "print(review_summary)        "
   ]
  },
  {
   "cell_type": "code",
   "execution_count": 127,
   "id": "f3b39a96-2efe-4509-931f-0b2b63acd32b",
   "metadata": {},
   "outputs": [
    {
     "name": "stdout",
     "output_type": "stream",
     "text": [
      "100\n"
     ]
    }
   ],
   "source": [
    "print(len(review_summary))"
   ]
  },
  {
   "cell_type": "code",
   "execution_count": 128,
   "id": "575b42ab-d8ec-4fef-af69-a37e561a633e",
   "metadata": {},
   "outputs": [
    {
     "name": "stdout",
     "output_type": "stream",
     "text": [
      "['Feeling awesome after getting the delivery of my phone. Dual speakers makes the sound quality very loud. Amazing!!', 'Very very good', 'Good Camera', 'Photos super', 'Purple is best', 'Camera is awesome\\nBest battery backup\\nA performer 👌🏻\\nIt will be a real value for money if they provide charger and earphone inbox!', 'Value for money 😍', 'This is amazing at all', 'Go for iPhone 11 , if confused between iPhone 11 or iPhone 12 mini.Battery Life is enhanced , it worked for complete 2 days without charging it. Explored new features of taking screenshot by clicking on apple logo by Haptic Touch , Portrait mode with stage effect enhanced & slow motion selfie.', 'Perfect Product!!']\n"
     ]
    }
   ],
   "source": [
    "full_review = []\n",
    "\n",
    "reviews = driver.find_elements(By.XPATH,'//div[@class=\"ZmyHeo\"]')\n",
    "for i in reviews:\n",
    "    review = i.text\n",
    "    full_review.append(review)\n",
    "\n",
    "print(full_review)"
   ]
  },
  {
   "cell_type": "code",
   "execution_count": 130,
   "id": "b3582e96-559f-46da-b8fb-6a7efb245f79",
   "metadata": {},
   "outputs": [
    {
     "name": "stdout",
     "output_type": "stream",
     "text": [
      "['Feeling awesome after getting the delivery of my phone. Dual speakers makes the sound quality very loud. Amazing!!', 'Very very good', 'Good Camera', 'Photos super', 'Purple is best', 'Camera is awesome\\nBest battery backup\\nA performer 👌🏻\\nIt will be a real value for money if they provide charger and earphone inbox!', 'Value for money 😍', 'This is amazing at all', 'Go for iPhone 11 , if confused between iPhone 11 or iPhone 12 mini.Battery Life is enhanced , it worked for complete 2 days without charging it. Explored new features of taking screenshot by clicking on apple logo by Haptic Touch , Portrait mode with stage effect enhanced & slow motion selfie.', 'Perfect Product!!', 'Feeling awesome after getting the delivery of my phone. Dual speakers makes the sound quality very loud. Amazing!!', 'Very very good', 'Good Camera', 'Photos super', 'Purple is best', 'Camera is awesome\\nBest battery backup\\nA performer 👌🏻\\nIt will be a real value for money if they provide charger and earphone inbox!', 'Value for money 😍', 'This is amazing at all', 'Go for iPhone 11 , if confused between iPhone 11 or iPhone 12 mini.Battery Life is enhanced , it worked for complete 2 days without charging it. Explored new features of taking screenshot by clicking on apple logo by Haptic Touch , Portrait mode with stage effect enhanced & slow motion selfie.', 'Perfect Product!!', 'Feeling awesome after getting the delivery of my phone. Dual speakers makes the sound quality very loud. Amazing!!', 'Very very good', 'Good Camera', 'Photos super', 'Purple is best', 'Camera is awesome\\nBest battery backup\\nA performer 👌🏻\\nIt will be a real value for money if they provide charger and earphone inbox!', 'Value for money 😍', 'This is amazing at all', 'Go for iPhone 11 , if confused between iPhone 11 or iPhone 12 mini.Battery Life is enhanced , it worked for complete 2 days without charging it. Explored new features of taking screenshot by clicking on apple logo by Haptic Touch , Portrait mode with stage effect enhanced & slow motion selfie.', 'Perfect Product!!', 'Feeling awesome after getting the delivery of my phone. Dual speakers makes the sound quality very loud. Amazing!!', 'Very very good', 'Good Camera', 'Photos super', 'Purple is best', 'Camera is awesome\\nBest battery backup\\nA performer 👌🏻\\nIt will be a real value for money if they provide charger and earphone inbox!', 'Value for money 😍', 'This is amazing at all', 'Go for iPhone 11 , if confused between iPhone 11 or iPhone 12 mini.Battery Life is enhanced , it worked for complete 2 days without charging it. Explored new features of taking screenshot by clicking on apple logo by Haptic Touch , Portrait mode with stage effect enhanced & slow motion selfie.', 'Perfect Product!!', 'Feeling awesome after getting the delivery of my phone. Dual speakers makes the sound quality very loud. Amazing!!', 'Very very good', 'Good Camera', 'Photos super', 'Purple is best', 'Camera is awesome\\nBest battery backup\\nA performer 👌🏻\\nIt will be a real value for money if they provide charger and earphone inbox!', 'Value for money 😍', 'This is amazing at all', 'Go for iPhone 11 , if confused between iPhone 11 or iPhone 12 mini.Battery Life is enhanced , it worked for complete 2 days without charging it. Explored new features of taking screenshot by clicking on apple logo by Haptic Touch , Portrait mode with stage effect enhanced & slow motion selfie.', 'Perfect Product!!', 'Feeling awesome after getting the delivery of my phone. Dual speakers makes the sound quality very loud. Amazing!!', 'Very very good', 'Good Camera', 'Photos super', 'Purple is best', 'Camera is awesome\\nBest battery backup\\nA performer 👌🏻\\nIt will be a real value for money if they provide charger and earphone inbox!', 'Value for money 😍', 'This is amazing at all', 'Go for iPhone 11 , if confused between iPhone 11 or iPhone 12 mini.Battery Life is enhanced , it worked for complete 2 days without charging it. Explored new features of taking screenshot by clicking on apple logo by Haptic Touch , Portrait mode with stage effect enhanced & slow motion selfie.', 'Perfect Product!!', 'Feeling awesome after getting the delivery of my phone. Dual speakers makes the sound quality very loud. Amazing!!', 'Very very good', 'Good Camera', 'Photos super', 'Purple is best', 'Camera is awesome\\nBest battery backup\\nA performer 👌🏻\\nIt will be a real value for money if they provide charger and earphone inbox!', 'Value for money 😍', 'This is amazing at all', 'Go for iPhone 11 , if confused between iPhone 11 or iPhone 12 mini.Battery Life is enhanced , it worked for complete 2 days without charging it. Explored new features of taking screenshot by clicking on apple logo by Haptic Touch , Portrait mode with stage effect enhanced & slow motion selfie.', 'Perfect Product!!', 'Feeling awesome after getting the delivery of my phone. Dual speakers makes the sound quality very loud. Amazing!!', 'Very very good', 'Good Camera', 'Photos super', 'Purple is best', 'Camera is awesome\\nBest battery backup\\nA performer 👌🏻\\nIt will be a real value for money if they provide charger and earphone inbox!', 'Value for money 😍', 'This is amazing at all', 'Go for iPhone 11 , if confused between iPhone 11 or iPhone 12 mini.Battery Life is enhanced , it worked for complete 2 days without charging it. Explored new features of taking screenshot by clicking on apple logo by Haptic Touch , Portrait mode with stage effect enhanced & slow motion selfie.', 'Perfect Product!!', 'Feeling awesome after getting the delivery of my phone. Dual speakers makes the sound quality very loud. Amazing!!', 'Very very good', 'Good Camera', 'Photos super', 'Purple is best', 'Camera is awesome\\nBest battery backup\\nA performer 👌🏻\\nIt will be a real value for money if they provide charger and earphone inbox!', 'Value for money 😍', 'This is amazing at all', 'Go for iPhone 11 , if confused between iPhone 11 or iPhone 12 mini.Battery Life is enhanced , it worked for complete 2 days without charging it. Explored new features of taking screenshot by clicking on apple logo by Haptic Touch , Portrait mode with stage effect enhanced & slow motion selfie.', 'Perfect Product!!', 'Feeling awesome after getting the delivery of my phone. Dual speakers makes the sound quality very loud. Amazing!!', 'Very very good', 'Good Camera', 'Photos super', 'Purple is best', 'Camera is awesome\\nBest battery backup\\nA performer 👌🏻\\nIt will be a real value for money if they provide charger and earphone inbox!', 'Value for money 😍', 'This is amazing at all', 'Go for iPhone 11 , if confused between iPhone 11 or iPhone 12 mini.Battery Life is enhanced , it worked for complete 2 days without charging it. Explored new features of taking screenshot by clicking on apple logo by Haptic Touch , Portrait mode with stage effect enhanced & slow motion selfie.', 'Perfect Product!!']\n"
     ]
    }
   ],
   "source": [
    "full_review = []\n",
    "\n",
    "start =0\n",
    "end =10\n",
    "for page in range(start,end):\n",
    "    reviews = driver.find_elements(By.XPATH,'//div[@class=\"ZmyHeo\"]')\n",
    "    for i in reviews:\n",
    "        full_review.append(i.text)\n",
    "        \n",
    "next_Button =driver.find_element(By.XPATH,'/html/body/div/div/div[3]/div/div/div[2]/div[13]/div/div/nav/a[11]/span')\n",
    "next_Button.click ()\n",
    "time.sleep(3)\n",
    "print(full_review)        "
   ]
  },
  {
   "cell_type": "code",
   "execution_count": 131,
   "id": "aec51889-8e45-42cd-b400-c6d031e819d1",
   "metadata": {},
   "outputs": [
    {
     "name": "stdout",
     "output_type": "stream",
     "text": [
      "100\n"
     ]
    }
   ],
   "source": [
    "print(len(full_review))"
   ]
  },
  {
   "cell_type": "code",
   "execution_count": null,
   "id": "fd72a277-4c0e-469d-a4b5-4addd7a4b7a6",
   "metadata": {},
   "outputs": [],
   "source": []
  },
  {
   "cell_type": "code",
   "execution_count": null,
   "id": "84ad6b47-ebe5-4341-85f5-a77b8f52b801",
   "metadata": {},
   "outputs": [],
   "source": []
  },
  {
   "cell_type": "code",
   "execution_count": null,
   "id": "d882b764-7ffc-437a-8c97-9194fcb6a632",
   "metadata": {},
   "outputs": [],
   "source": []
  },
  {
   "cell_type": "code",
   "execution_count": null,
   "id": "6f08c618-ca46-4862-87d1-e6d3356de64e",
   "metadata": {},
   "outputs": [],
   "source": []
  },
  {
   "cell_type": "code",
   "execution_count": null,
   "id": "20c18bb4-b86d-41d5-ae38-25498e7c2de3",
   "metadata": {},
   "outputs": [],
   "source": []
  },
  {
   "cell_type": "code",
   "execution_count": null,
   "id": "0f3a56fd-3c08-4ea5-8c84-dfd8814ab7be",
   "metadata": {},
   "outputs": [],
   "source": []
  },
  {
   "cell_type": "code",
   "execution_count": null,
   "id": "3d9bdbb0-32de-4726-8b17-11b54147342b",
   "metadata": {},
   "outputs": [],
   "source": []
  },
  {
   "cell_type": "code",
   "execution_count": null,
   "id": "a403e167-2b0e-40df-adde-f370cfe3f6b6",
   "metadata": {},
   "outputs": [],
   "source": []
  },
  {
   "cell_type": "markdown",
   "id": "41d846eb-5f2a-4bb0-b4f5-c4d5b5089f2f",
   "metadata": {},
   "source": [
    "# ANS = 4"
   ]
  },
  {
   "cell_type": "code",
   "execution_count": 27,
   "id": "baf42a06-93e8-4d18-916a-9f6d464fbbd2",
   "metadata": {},
   "outputs": [
    {
     "name": "stdout",
     "output_type": "stream",
     "text": [
      "Requirement already satisfied: selenium in c:\\users\\admin\\anaconda3\\lib\\site-packages (4.23.1)\n",
      "Requirement already satisfied: urllib3[socks]<3,>=1.26 in c:\\users\\admin\\anaconda3\\lib\\site-packages (from selenium) (1.26.16)\n",
      "Requirement already satisfied: trio~=0.17 in c:\\users\\admin\\anaconda3\\lib\\site-packages (from selenium) (0.26.2)\n",
      "Requirement already satisfied: trio-websocket~=0.9 in c:\\users\\admin\\anaconda3\\lib\\site-packages (from selenium) (0.11.1)\n",
      "Requirement already satisfied: certifi>=2021.10.8 in c:\\users\\admin\\anaconda3\\lib\\site-packages (from selenium) (2023.11.17)\n",
      "Requirement already satisfied: typing_extensions~=4.9 in c:\\users\\admin\\anaconda3\\lib\\site-packages (from selenium) (4.12.2)\n",
      "Requirement already satisfied: websocket-client~=1.8 in c:\\users\\admin\\anaconda3\\lib\\site-packages (from selenium) (1.8.0)\n",
      "Requirement already satisfied: attrs>=23.2.0 in c:\\users\\admin\\anaconda3\\lib\\site-packages (from trio~=0.17->selenium) (24.2.0)\n",
      "Requirement already satisfied: sortedcontainers in c:\\users\\admin\\anaconda3\\lib\\site-packages (from trio~=0.17->selenium) (2.4.0)\n",
      "Requirement already satisfied: idna in c:\\users\\admin\\anaconda3\\lib\\site-packages (from trio~=0.17->selenium) (3.4)\n",
      "Requirement already satisfied: outcome in c:\\users\\admin\\anaconda3\\lib\\site-packages (from trio~=0.17->selenium) (1.3.0.post0)\n",
      "Requirement already satisfied: sniffio>=1.3.0 in c:\\users\\admin\\anaconda3\\lib\\site-packages (from trio~=0.17->selenium) (1.3.1)\n",
      "Requirement already satisfied: cffi>=1.14 in c:\\users\\admin\\anaconda3\\lib\\site-packages (from trio~=0.17->selenium) (1.15.1)\n",
      "Requirement already satisfied: wsproto>=0.14 in c:\\users\\admin\\anaconda3\\lib\\site-packages (from trio-websocket~=0.9->selenium) (1.2.0)\n",
      "Requirement already satisfied: PySocks!=1.5.7,<2.0,>=1.5.6 in c:\\users\\admin\\anaconda3\\lib\\site-packages (from urllib3[socks]<3,>=1.26->selenium) (1.7.1)\n",
      "Requirement already satisfied: pycparser in c:\\users\\admin\\anaconda3\\lib\\site-packages (from cffi>=1.14->trio~=0.17->selenium) (2.21)\n",
      "Requirement already satisfied: h11<1,>=0.9.0 in c:\\users\\admin\\anaconda3\\lib\\site-packages (from wsproto>=0.14->trio-websocket~=0.9->selenium) (0.14.0)\n"
     ]
    }
   ],
   "source": [
    "! pip install selenium"
   ]
  },
  {
   "cell_type": "code",
   "execution_count": 28,
   "id": "f1072aae-c3f4-43ef-a174-1696847b3a1f",
   "metadata": {},
   "outputs": [],
   "source": [
    "import selenium\n",
    "import pandas as pd\n",
    "import time\n",
    "from selenium import webdriver\n",
    "import warnings\n",
    "warnings.filterwarnings('ignore')\n",
    "from selenium.webdriver.common.by import By"
   ]
  },
  {
   "cell_type": "code",
   "execution_count": 29,
   "id": "62b51894-1774-47af-a015-147de8edca27",
   "metadata": {},
   "outputs": [],
   "source": [
    "driver = webdriver.Chrome()"
   ]
  },
  {
   "cell_type": "code",
   "execution_count": 31,
   "id": "490e824b-607b-4d97-8eef-44fa8f4a7246",
   "metadata": {},
   "outputs": [],
   "source": [
    "driver.get(\"https://www.flipkart.com/\")"
   ]
  },
  {
   "cell_type": "code",
   "execution_count": 33,
   "id": "e3201b97-5e04-4004-bb28-b864ec662f76",
   "metadata": {},
   "outputs": [],
   "source": [
    "online_search =driver.find_element(By.XPATH,'//div[@class=\"_2SmNnR\"]/input')\n",
    "online_search.send_keys(\"sneakers\")"
   ]
  },
  {
   "cell_type": "code",
   "execution_count": 35,
   "id": "2d8c3517-9f39-4604-a2b1-23b6dd7fe86c",
   "metadata": {},
   "outputs": [
    {
     "name": "stdout",
     "output_type": "stream",
     "text": [
      "['Deals4you', 'Deals4you', 'asian', 'ATOM', 'tigonis', 'ATOM', 'asian', 'Red Tape', 'Roadster', 'PUMA', 'asian', 'CAMPUS', 'Red Tape', 'Red Tape', 'Roadster', 'Red Tape', 'asian', 'JUMPLITE', 'ATOM', 'ATOM', 'Footox', 'RUN SEVEN', 'Red Tape', 'PUMA', 'PUMA', 'Red Tape', 'BIG FOX', 'WOODLAND', 'Red Tape', 'RUN SEVEN', 'CAMPUS', 'bacca bucci', 'Skechers', 'PUMA', 'asian', 'PUMA', 'CAMPUS', 'U.S. POLO ASSN.', 'Skechers', 'Red Tape']\n"
     ]
    }
   ],
   "source": [
    "brand_names =[]\n",
    "\n",
    "brands = driver.find_elements(By.XPATH,'//div[@class=\"syl9yP\"]')\n",
    "for i in brands:\n",
    "  brand   = i.text\n",
    "  brand_names.append(brand)\n",
    "\n",
    "print(brand_names)"
   ]
  },
  {
   "cell_type": "code",
   "execution_count": 36,
   "id": "695e4f85-1719-49ce-8d3d-7fd5dcafe068",
   "metadata": {},
   "outputs": [
    {
     "name": "stdout",
     "output_type": "stream",
     "text": [
      "40\n"
     ]
    }
   ],
   "source": [
    "print(len(brand_names))"
   ]
  },
  {
   "cell_type": "code",
   "execution_count": 72,
   "id": "fcf40143-f440-412c-83f6-155513e20bbb",
   "metadata": {},
   "outputs": [
    {
     "name": "stdout",
     "output_type": "stream",
     "text": [
      "['Oggi Sneakers Sneakers For Men', 'Lifestyle Sneaker Shoes for Men | Elegantly Rounded Fro...', 'Boston-01 Chunky Sneakers,Loafers,Walking Shoes Sneaker...', 'Chroma Kick Multicolor Sneakers For Men', 'Sneaker Casual Shoes For Men | Soft Cushion Insole || B...', 'Casual Sneaker Shoes For Men | Comfortable & Slip Resis...', 'Casual Sneaker Shoes for Men | Soft Cushioned Insole ||...', 'Casual Sneaker Shoes for Men | Elegantly Rounded Front,...', 'Sneaker Casual Shoes For Men | Soft Cushion Insole, Sli...', 'Casual Sneaker Shoes for Men | Elegantly Rounded Front,...', 'Latest Collection Sneakers Girls Sneakers Sports Shoes ...', 'Casual Shoes Sneakers For Women', 'Casual Sneakers White Shoes For Girls And Sneakers For ...', 'Chroma Kick Multicolor Sneakers For Men', 'Buzz Sneakers For Men', 'Casual Sneaker Shoes for Men | Classic Rounded Toe, Soo...', 'Sneaker Casual Shoes For Men | Soft Cushion Insole, Sli...', 'Moscow-01 White Sneakers,Loafers,Chunky Shoes Sneakers ...', 'Sneakers For Men', 'CAMP-CLINT Sneakers For Women', 'Buzz Sneakers For Men', 'Casual Sneaker Shoes For Men | Comfortable, Breathable,...', 'Lightweight Comfort Summer Trendy Walking Outdoor Styli...', 'Boom Chunky Sneakers For Men', 'CLARKIN Sneakers For Men', 'Casual Sneaker Shoes for Men | Shock Absorbant, Slip Re...']\n"
     ]
    }
   ],
   "source": [
    "product_description =[]\n",
    "\n",
    "desc_ = driver.find_elements(By.XPATH,'//a[@class=\"WKTcLC\"]')\n",
    "for i in desc_:\n",
    "   des = i.text\n",
    "   product_description.append(des)\n",
    "\n",
    "print(product_description)"
   ]
  },
  {
   "cell_type": "code",
   "execution_count": 73,
   "id": "b213320f-b00b-40f0-98e1-ae2bbfcaf0e2",
   "metadata": {},
   "outputs": [
    {
     "name": "stdout",
     "output_type": "stream",
     "text": [
      "26\n"
     ]
    }
   ],
   "source": [
    "print(len(product_description))"
   ]
  },
  {
   "cell_type": "code",
   "execution_count": 50,
   "id": "74f148f0-4757-4acf-974a-6791a3ef4a08",
   "metadata": {},
   "outputs": [
    {
     "name": "stdout",
     "output_type": "stream",
     "text": [
      "['₹419', '₹439', '₹793', '₹1,399', '₹718', '₹1,191', '₹793', '₹1,043', '₹1,332', '₹2,350', '₹863', '₹1,551', '₹1,769', '₹1,619', '₹1,403', '₹1,769', '₹863', '₹1,067', '₹1,399', '₹1,486', '₹499', '₹1,099', '₹1,769', '₹1,299', '₹2,241', '₹1,679', '₹828', '₹1,341', '₹1,619', '₹3,899', '₹990', '₹1,599', '₹3,224', '₹4,399', '₹809', '₹1,299', '₹1,496', '₹1,175', '₹2,999', '₹1,679']\n"
     ]
    }
   ],
   "source": [
    "product_prise =[]\n",
    "\n",
    "prices = driver.find_elements(By.XPATH,'//div[@class=\"Nx9bqj\"]')\n",
    "for i in prices:\n",
    "   prise = i.text\n",
    "   product_prise.append(prise)\n",
    "\n",
    "print(product_prise)"
   ]
  },
  {
   "cell_type": "code",
   "execution_count": 51,
   "id": "52246a62-5a17-4c51-bc13-75b80ff2cb22",
   "metadata": {},
   "outputs": [
    {
     "name": "stdout",
     "output_type": "stream",
     "text": [
      "40\n"
     ]
    }
   ],
   "source": [
    "print(len(product_prise))"
   ]
  },
  {
   "cell_type": "code",
   "execution_count": 62,
   "id": "2d8f7630-847c-4d58-b283-2933964e6220",
   "metadata": {},
   "outputs": [
    {
     "name": "stdout",
     "output_type": "stream",
     "text": [
      "['BIRDE', 'Roadster', 'Shozie', 'New Balance', 'Paragon', 'PUMA', 'RUN SEVEN', 'PUMA', 'Red Tape', 'U.S. POLO ASSN.', 'Rare Rabbit', 'Red Tape', 'Aqualite', 'HRX by Hrithik Roshan', 'Neemans', 'Roadster', 'PUMA', 'CAMPUS', 'JUMPLITE', 'CAMPUS', 'SEGA', 'BRUTON', 'KILLER', 'WOODLAND', 'bacca bucci', 'CAMPUS', 'ADIDAS', 'bacca bucci', 'PUMA', 'CAMPUS', 'HRX by Hrithik Roshan', 'ADIDAS', 'HRX by Hrithik Roshan', 'RUN SEVEN', 'Sparx', 'Arivo', 'UNDER ARMOUR', 'Footox', 'Footox', 'Kook N Keech', 'BIRDE', 'Roadster', 'Shozie', 'New Balance', 'Paragon', 'PUMA', 'RUN SEVEN', 'PUMA', 'Red Tape', 'U.S. POLO ASSN.', 'Rare Rabbit', 'Red Tape', 'Aqualite', 'HRX by Hrithik Roshan', 'Neemans', 'Roadster', 'PUMA', 'CAMPUS', 'JUMPLITE', 'CAMPUS', 'SEGA', 'BRUTON', 'KILLER', 'WOODLAND', 'bacca bucci', 'CAMPUS', 'ADIDAS', 'bacca bucci', 'PUMA', 'CAMPUS', 'HRX by Hrithik Roshan', 'ADIDAS', 'HRX by Hrithik Roshan', 'RUN SEVEN', 'Sparx', 'Arivo', 'UNDER ARMOUR', 'Footox', 'Footox', 'Kook N Keech', 'BIRDE', 'Roadster', 'Shozie', 'New Balance', 'Paragon', 'PUMA', 'RUN SEVEN', 'PUMA', 'Red Tape', 'U.S. POLO ASSN.', 'Rare Rabbit', 'Red Tape', 'Aqualite', 'HRX by Hrithik Roshan', 'Neemans', 'Roadster', 'PUMA', 'CAMPUS', 'JUMPLITE', 'CAMPUS', 'SEGA', 'BRUTON', 'KILLER', 'WOODLAND', 'bacca bucci', 'CAMPUS', 'ADIDAS', 'bacca bucci', 'PUMA', 'CAMPUS', 'HRX by Hrithik Roshan', 'ADIDAS', 'HRX by Hrithik Roshan', 'RUN SEVEN', 'Sparx', 'Arivo', 'UNDER ARMOUR', 'Footox', 'Footox', 'Kook N Keech']\n"
     ]
    }
   ],
   "source": [
    "brand_names=[]\n",
    "\n",
    "start =0\n",
    "end = 3\n",
    "for page in range(start,end):\n",
    "    brands = driver.find_elements(By.XPATH,'//div[@class=\"syl9yP\"]')\n",
    "    for i in brands:\n",
    "      brand_names.append(i.text)\n",
    "\n",
    "next_Button =driver.find_element(By.XPATH,'/html/body/div/div/div[3]/div[1]/div[2]/div[12]/div/div/nav/a[11]')\n",
    "next_Button.click ()\n",
    "time.sleep(3)\n",
    "print(brand_names)"
   ]
  },
  {
   "cell_type": "code",
   "execution_count": 63,
   "id": "850d2afa-d0ce-4f75-a2cc-173ff7d95b65",
   "metadata": {},
   "outputs": [
    {
     "name": "stdout",
     "output_type": "stream",
     "text": [
      "120\n"
     ]
    }
   ],
   "source": [
    "print(len(brand_names))"
   ]
  },
  {
   "cell_type": "code",
   "execution_count": 98,
   "id": "e0729362-7932-4c6f-81a6-e67a34ab68a9",
   "metadata": {},
   "outputs": [
    {
     "name": "stdout",
     "output_type": "stream",
     "text": [
      "['Puma Humble IDP Sneakers For Men', 'Anzarun Krick Pro Slipon Sneakers For Men', \"Newton-01 Men's Lightweight Running Shoes Sneakers For ...\", 'Puma Rideric Sneakers For Men', 'Puma Urus Sneakers For Men', 'Pacer Slip on V3 Sneakers For Men', 'Resolve Modern Sneakers For Men', 'Anzarun Krick Pro Slipon Sneakers For Men', 'Coarse Sneakers For Men', 'Dynamite Slip-on Sneakers For Men', 'Corode IDP Sneakers For Men', 'LIOTTO Sneakers For Men', 'HILLCREST - VAST ADV Sneakers For Men', 'Casal Vulcanised Sneaker Shoes for Women | Soft Cushion...', 'Glossy Groove Sneakers Casual Shoes For Men | Lightweig...', 'Sneaker Casual Shoes For Men | Soft Cushion Insole, Sli...', 'Sneakers For Men', 'HILLTOP Sneakers For Men', 'CAMP DENVER Sneakers For Women', 'Trendy & Stylish Casual Shoes Sneakers For Men', 'City Escape Sneakers For Men', 'BRODO Sneakers For Men', 'OG-L3 Sneakers For Women', 'Dominator Street Fashion Sneakers For Men']\n"
     ]
    }
   ],
   "source": [
    "product_description =[]\n",
    "\n",
    "start =0\n",
    "end = 4\n",
    "\n",
    "desc_ = driver.find_elements(By.XPATH,'//a[@class=\"WKTcLC\"]')\n",
    "for i in desc_:\n",
    "   product_description.append(i.text)\n",
    "\n",
    "next_Button =driver.find_element(By.XPATH,'/html/body/div/div/div[3]/div[1]/div[2]/div[12]/div/div/nav/a[11]')\n",
    "next_Button.click ()\n",
    "time.sleep(3)\n",
    "print(product_description)"
   ]
  },
  {
   "cell_type": "code",
   "execution_count": 99,
   "id": "8fe55880-5323-4402-8d90-34c608cadce6",
   "metadata": {},
   "outputs": [
    {
     "name": "stdout",
     "output_type": "stream",
     "text": [
      "24\n"
     ]
    }
   ],
   "source": [
    "print(len(product_description))"
   ]
  },
  {
   "cell_type": "code",
   "execution_count": 112,
   "id": "00341c4e-0845-4de3-89aa-61f8b33a03e1",
   "metadata": {},
   "outputs": [
    {
     "name": "stdout",
     "output_type": "stream",
     "text": [
      "['₹511', '₹499', '₹657', '₹1,769', '₹1,924', '₹2,999', '₹499', '₹888', '₹1,486', '₹2,199', '₹810', '₹863', '₹899', '₹1,399', '₹1,858', '₹1,201', '₹599', '₹810', '₹1,047', '₹1,858', '₹929', '₹549', '₹1,047', '₹1,199', '₹980', '₹1,214', '₹863', '₹1,418', '₹1,047', '₹1,599', '₹1,551', '₹1,418', '₹809', '₹863', '₹1,452', '₹3,899', '₹799', '₹1,299', '₹890', '₹863']\n"
     ]
    }
   ],
   "source": [
    "product_price =[]\n",
    "\n",
    "start = 0\n",
    "end   = 10\n",
    "\n",
    "desc_ = driver.find_elements(By.XPATH,'//div[@class=\"Nx9bqj\"]')\n",
    "for i in desc_:\n",
    "   product_price.append(i.text)\n",
    "\n",
    "next_Button =driver.find_element(By.XPATH,'/html/body/div/div/div[3]/div[1]/div[2]/div[12]/div/div/nav/a[12]/span')\n",
    "next_Button.click ()\n",
    "time.sleep(3)\n",
    "print(product_price)"
   ]
  },
  {
   "cell_type": "code",
   "execution_count": 113,
   "id": "1bd38a6d-0754-442d-96a3-72143130e982",
   "metadata": {},
   "outputs": [
    {
     "name": "stdout",
     "output_type": "stream",
     "text": [
      "40\n"
     ]
    }
   ],
   "source": [
    "print(len(product_price))"
   ]
  },
  {
   "cell_type": "code",
   "execution_count": null,
   "id": "a57d31ed-2cbc-475c-aca7-65371b56384d",
   "metadata": {},
   "outputs": [],
   "source": []
  },
  {
   "cell_type": "code",
   "execution_count": null,
   "id": "d84e2c3c-7d28-40fd-b496-0134fe0ee8a3",
   "metadata": {},
   "outputs": [],
   "source": []
  },
  {
   "cell_type": "code",
   "execution_count": null,
   "id": "59539a52-b655-459e-a04b-f74bbb5fc4e1",
   "metadata": {},
   "outputs": [],
   "source": []
  },
  {
   "cell_type": "code",
   "execution_count": null,
   "id": "6e8cf96e-bf3d-45d1-bf9d-83b8cbe848b3",
   "metadata": {},
   "outputs": [],
   "source": []
  },
  {
   "cell_type": "code",
   "execution_count": null,
   "id": "14c298b9-3f36-442f-ba5b-285a6502e5b9",
   "metadata": {},
   "outputs": [],
   "source": []
  },
  {
   "cell_type": "code",
   "execution_count": null,
   "id": "257b3319-316c-4e6e-8bfa-c0f5485b2273",
   "metadata": {},
   "outputs": [],
   "source": []
  },
  {
   "cell_type": "code",
   "execution_count": null,
   "id": "0b1f7699-2803-4ad5-aa17-893741cbb7b4",
   "metadata": {},
   "outputs": [],
   "source": []
  },
  {
   "cell_type": "code",
   "execution_count": null,
   "id": "cea886e9-6f0b-4cf0-a420-a4ec49026b6c",
   "metadata": {},
   "outputs": [],
   "source": []
  },
  {
   "cell_type": "code",
   "execution_count": null,
   "id": "5fbbb9db-69f6-423a-8c59-95eb69633cd0",
   "metadata": {},
   "outputs": [],
   "source": []
  },
  {
   "cell_type": "code",
   "execution_count": null,
   "id": "26fab856-fb22-4c45-9c7c-6df385b78000",
   "metadata": {},
   "outputs": [],
   "source": []
  },
  {
   "cell_type": "code",
   "execution_count": null,
   "id": "6d3fc096-3aba-4c49-bd79-c28525f1c3dc",
   "metadata": {},
   "outputs": [],
   "source": []
  },
  {
   "cell_type": "code",
   "execution_count": null,
   "id": "3179195a-c3c1-45e7-bf9c-9422ef29d102",
   "metadata": {},
   "outputs": [],
   "source": []
  },
  {
   "cell_type": "code",
   "execution_count": null,
   "id": "bcb914f5-7407-49f9-98de-475623305840",
   "metadata": {},
   "outputs": [],
   "source": []
  },
  {
   "cell_type": "code",
   "execution_count": null,
   "id": "cc0ff26e-2659-4aa8-bf8e-c95a6bd900c7",
   "metadata": {},
   "outputs": [],
   "source": []
  },
  {
   "cell_type": "code",
   "execution_count": null,
   "id": "f0e86976-c51c-402c-9d2d-a839bfd33296",
   "metadata": {},
   "outputs": [],
   "source": []
  },
  {
   "cell_type": "code",
   "execution_count": null,
   "id": "fba701db-72ae-4e81-9ae2-00c98dcea86e",
   "metadata": {},
   "outputs": [],
   "source": []
  },
  {
   "cell_type": "code",
   "execution_count": null,
   "id": "bb973ffb-77ad-4bd0-8870-68f435ababc8",
   "metadata": {},
   "outputs": [],
   "source": []
  },
  {
   "cell_type": "code",
   "execution_count": null,
   "id": "45b04d76-7978-4667-9036-6fdbefad04ac",
   "metadata": {},
   "outputs": [],
   "source": []
  },
  {
   "cell_type": "code",
   "execution_count": null,
   "id": "95088eac-eaef-4c9b-ab5b-0e7e058b9d8f",
   "metadata": {},
   "outputs": [],
   "source": []
  },
  {
   "cell_type": "code",
   "execution_count": null,
   "id": "af217e3e-6362-4fe2-ad23-9d90460be958",
   "metadata": {},
   "outputs": [],
   "source": []
  },
  {
   "cell_type": "code",
   "execution_count": null,
   "id": "825bd79b-85e7-47c6-b465-d7ce71322ad9",
   "metadata": {},
   "outputs": [],
   "source": []
  },
  {
   "cell_type": "code",
   "execution_count": null,
   "id": "f59c421f-dd35-4efc-97e9-4ea3dde69f3d",
   "metadata": {},
   "outputs": [],
   "source": []
  },
  {
   "cell_type": "code",
   "execution_count": null,
   "id": "19346c95-9165-480c-8e8a-0f204d1e771e",
   "metadata": {},
   "outputs": [],
   "source": []
  },
  {
   "cell_type": "code",
   "execution_count": null,
   "id": "6b0e53c0-4e24-4cb4-a591-ad9a59b449d6",
   "metadata": {},
   "outputs": [],
   "source": []
  },
  {
   "cell_type": "code",
   "execution_count": null,
   "id": "f5fe2ab1-4102-43fd-af96-85baa579bd4d",
   "metadata": {},
   "outputs": [],
   "source": []
  }
 ],
 "metadata": {
  "kernelspec": {
   "display_name": "Python 3 (ipykernel)",
   "language": "python",
   "name": "python3"
  },
  "language_info": {
   "codemirror_mode": {
    "name": "ipython",
    "version": 3
   },
   "file_extension": ".py",
   "mimetype": "text/x-python",
   "name": "python",
   "nbconvert_exporter": "python",
   "pygments_lexer": "ipython3",
   "version": "3.11.5"
  }
 },
 "nbformat": 4,
 "nbformat_minor": 5
}
