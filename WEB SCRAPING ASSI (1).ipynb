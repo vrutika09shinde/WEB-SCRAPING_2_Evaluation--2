{
 "cells": [
  {
   "cell_type": "markdown",
   "id": "e2118980-c6ef-40ae-9fc7-69126c8f0094",
   "metadata": {},
   "source": [
    "# ANS NO:1"
   ]
  },
  {
   "cell_type": "code",
   "execution_count": 1,
   "id": "0142cbca-096a-4fa4-b3cc-83e9d3cd296e",
   "metadata": {},
   "outputs": [
    {
     "name": "stdout",
     "output_type": "stream",
     "text": [
      "Requirement already satisfied: selenium in c:\\users\\admin\\anaconda3\\lib\\site-packages (4.23.1)\n",
      "Requirement already satisfied: urllib3[socks]<3,>=1.26 in c:\\users\\admin\\anaconda3\\lib\\site-packages (from selenium) (1.26.16)\n",
      "Requirement already satisfied: trio~=0.17 in c:\\users\\admin\\anaconda3\\lib\\site-packages (from selenium) (0.26.2)\n",
      "Requirement already satisfied: trio-websocket~=0.9 in c:\\users\\admin\\anaconda3\\lib\\site-packages (from selenium) (0.11.1)\n",
      "Requirement already satisfied: certifi>=2021.10.8 in c:\\users\\admin\\anaconda3\\lib\\site-packages (from selenium) (2023.11.17)\n",
      "Requirement already satisfied: typing_extensions~=4.9 in c:\\users\\admin\\anaconda3\\lib\\site-packages (from selenium) (4.12.2)\n",
      "Requirement already satisfied: websocket-client~=1.8 in c:\\users\\admin\\anaconda3\\lib\\site-packages (from selenium) (1.8.0)\n",
      "Requirement already satisfied: attrs>=23.2.0 in c:\\users\\admin\\anaconda3\\lib\\site-packages (from trio~=0.17->selenium) (24.2.0)\n",
      "Requirement already satisfied: sortedcontainers in c:\\users\\admin\\anaconda3\\lib\\site-packages (from trio~=0.17->selenium) (2.4.0)\n",
      "Requirement already satisfied: idna in c:\\users\\admin\\anaconda3\\lib\\site-packages (from trio~=0.17->selenium) (3.4)\n",
      "Requirement already satisfied: outcome in c:\\users\\admin\\anaconda3\\lib\\site-packages (from trio~=0.17->selenium) (1.3.0.post0)\n",
      "Requirement already satisfied: sniffio>=1.3.0 in c:\\users\\admin\\anaconda3\\lib\\site-packages (from trio~=0.17->selenium) (1.3.1)\n",
      "Requirement already satisfied: cffi>=1.14 in c:\\users\\admin\\anaconda3\\lib\\site-packages (from trio~=0.17->selenium) (1.15.1)\n",
      "Requirement already satisfied: wsproto>=0.14 in c:\\users\\admin\\anaconda3\\lib\\site-packages (from trio-websocket~=0.9->selenium) (1.2.0)\n",
      "Requirement already satisfied: PySocks!=1.5.7,<2.0,>=1.5.6 in c:\\users\\admin\\anaconda3\\lib\\site-packages (from urllib3[socks]<3,>=1.26->selenium) (1.7.1)\n",
      "Requirement already satisfied: pycparser in c:\\users\\admin\\anaconda3\\lib\\site-packages (from cffi>=1.14->trio~=0.17->selenium) (2.21)\n",
      "Requirement already satisfied: h11<1,>=0.9.0 in c:\\users\\admin\\anaconda3\\lib\\site-packages (from wsproto>=0.14->trio-websocket~=0.9->selenium) (0.14.0)\n"
     ]
    }
   ],
   "source": [
    "!pip install selenium"
   ]
  },
  {
   "cell_type": "code",
   "execution_count": 145,
   "id": "b2c48c4b-9714-4c30-be68-9f467c710adf",
   "metadata": {},
   "outputs": [],
   "source": [
    "import selenium\n",
    "import pandas as pd\n",
    "import time\n",
    "from selenium import webdriver\n",
    "import warnings\n",
    "warnings.filterwarnings('ignore')\n",
    "from selenium.webdriver.common.by import By"
   ]
  },
  {
   "cell_type": "code",
   "execution_count": 158,
   "id": "8c0e7288-8cc6-4196-a9b0-66fa53dde74e",
   "metadata": {},
   "outputs": [],
   "source": [
    "driver = webdriver.Chrome()"
   ]
  },
  {
   "cell_type": "code",
   "execution_count": 159,
   "id": "dbdcd994-e3d8-4cad-a718-be8558271dd0",
   "metadata": {},
   "outputs": [],
   "source": [
    "driver.get(\"https://www.naukri.com/\")"
   ]
  },
  {
   "cell_type": "code",
   "execution_count": 160,
   "id": "41d8c6b9-f336-4a7c-961f-647800abd8b4",
   "metadata": {},
   "outputs": [],
   "source": [
    "designation =driver.find_element(By.CLASS_NAME,'suggestor-input ')\n",
    "designation.send_keys(\"Data Science\")"
   ]
  },
  {
   "cell_type": "code",
   "execution_count": 161,
   "id": "6bab5b5c-dab8-4185-8dd6-8c068a9f5472",
   "metadata": {},
   "outputs": [],
   "source": [
    "location = driver.find_element(By.XPATH,'/html/body/div[1]/div[7]/div/div/div[5]/div/div/div/div[1]/div/input')\n",
    "location.send_keys('Delhi/NCR')"
   ]
  },
  {
   "cell_type": "code",
   "execution_count": 133,
   "id": "da5415bb-9ee0-4ebd-8533-5164b3d11db3",
   "metadata": {},
   "outputs": [
    {
     "name": "stdout",
     "output_type": "stream",
     "text": [
      "['Data Science Analytics Analyst', 'S&C Global Network - AI - Hi Tech - Data Science Consultant', 'Analytics Data science and IOT Lead', 'S&C Global Network - AI - Hi Tech - Data Science Consultant', 'S&C Global Network - AI - CMT - Analyst Data Science', 'Senior Analyst - Data Science', 'S&C Global Network - AI - Life Sciences -Data Science Manager', 'S&C Global Network - AI - Life Sciences -Data Science Analyst', 'Data Science Engineer - Data Analyst/Scientist', 'Data Science Analyst (Senior)', 'Analytics Data science and IOT Lead', 'S&C Global Network - AI - CG&S - Consultant Data Science', 'S&C Global Network - AI - Hi Tech - Data Science Manager', 'S&C Global Network - AI - CG&S - Manager Data Science', 'S&C Global Network - AI - CG&S - Consultant Data Science', 'Data Science Lead', 'Data Science Analytics Sr Analyst', 'Data Science Intern', 'S&C Global Network - AI - CG&S - Manager Data Science']\n"
     ]
    }
   ],
   "source": [
    "job_title =[]\n",
    "\n",
    "titles = driver.find_elements(By.XPATH,'//a[@class=\"title \"]')\n",
    "for i in titles:\n",
    "    title = i.text\n",
    "    job_title.append(title)\n",
    "\n",
    "print(job_title)"
   ]
  },
  {
   "cell_type": "code",
   "execution_count": 134,
   "id": "eb133617-c4b0-46b0-acdf-7a90cf904545",
   "metadata": {},
   "outputs": [
    {
     "name": "stdout",
     "output_type": "stream",
     "text": [
      "19\n"
     ]
    }
   ],
   "source": [
    "print(len(job_title))"
   ]
  },
  {
   "cell_type": "code",
   "execution_count": 135,
   "id": "8ac30ffd-b708-4c1f-8380-a1799e4f5e20",
   "metadata": {},
   "outputs": [
    {
     "name": "stdout",
     "output_type": "stream",
     "text": [
      "['Gurugram', 'Kolkata, Hyderabad, Gurugram', 'Kolkata, Mumbai, New Delhi, Hyderabad, Pune, Chennai, Bengaluru', 'Gurugram', 'Hyderabad, Gurugram, Bengaluru', 'Gurugram', 'Delhi / NCR, Mumbai, Bengaluru', 'Gurugram', 'Kolkata, Mumbai, New Delhi, Hyderabad, Pune, Chennai, Bengaluru', 'Gurugram', 'Kolkata, Mumbai, New Delhi, Hyderabad, Pune, Chennai, Bengaluru', 'Gurugram', 'Hyderabad, Gurugram, Bengaluru', 'Gurugram', 'Gurugram', 'Hybrid - Noida, Bengaluru', 'Gurugram', 'Kolkata, Mumbai, New Delhi, Hyderabad, Pune, Chennai, Bengaluru', 'Gurugram']\n"
     ]
    }
   ],
   "source": [
    "job_location =[]\n",
    "\n",
    "locations =driver.find_elements(By.XPATH,'//span[@class=\"locWdth\"]')\n",
    "for i in locations:\n",
    "    location = i.text\n",
    "    job_location.append(location)\n",
    "\n",
    "print(job_location)"
   ]
  },
  {
   "cell_type": "code",
   "execution_count": 136,
   "id": "2069bcca-ff2a-4e2d-9b72-47a79ae1886a",
   "metadata": {},
   "outputs": [
    {
     "name": "stdout",
     "output_type": "stream",
     "text": [
      "19\n"
     ]
    }
   ],
   "source": [
    "print(len(job_location))"
   ]
  },
  {
   "cell_type": "code",
   "execution_count": 137,
   "id": "c4f96242-3d3d-470d-83a1-ba4578706ce8",
   "metadata": {},
   "outputs": [
    {
     "name": "stdout",
     "output_type": "stream",
     "text": [
      "['Accenture', 'Accenture', 'Hexaware Technologies', 'Accenture', 'Accenture', 'AMERICAN EXPRESS', 'Accenture', 'Accenture', 'Response Informatics', 'Infogain India (P) Ltd.', 'Hexaware Technologies', 'Accenture', 'Accenture', 'Accenture', 'Accenture', 'TELUS International', 'Accenture', 'Cloud Counselage Pvt. Ltd.', 'Accenture']\n"
     ]
    }
   ],
   "source": [
    "company_name =[]\n",
    "\n",
    "companies =driver.find_elements(By.XPATH,'//a[@class=\" comp-name mw-25\"]')\n",
    "for i in companies:\n",
    "    company = i.text\n",
    "    company_name.append(company)\n",
    "\n",
    "print(company_name)"
   ]
  },
  {
   "cell_type": "code",
   "execution_count": 138,
   "id": "6fa760c7-0eef-4991-a45c-e095cfda0823",
   "metadata": {},
   "outputs": [
    {
     "name": "stdout",
     "output_type": "stream",
     "text": [
      "19\n"
     ]
    }
   ],
   "source": [
    "print(len(company_name))"
   ]
  },
  {
   "cell_type": "code",
   "execution_count": 139,
   "id": "0dc80cad-9624-4eca-912a-a394e791dde5",
   "metadata": {},
   "outputs": [
    {
     "name": "stdout",
     "output_type": "stream",
     "text": [
      "['2-5 Yrs', '4-8 Yrs', '1-7 Yrs', '5-10 Yrs', '5-9 Yrs', '2-5 Yrs', '10-12 Yrs', '2-5 Yrs', '1-5 Yrs', '6-8 Yrs', '3-5 Yrs', '5-10 Yrs', '10-12 Yrs', '10-12 Yrs', '5-10 Yrs', '10-15 Yrs', '5-8 Yrs', '0-1 Yrs', '10-12 Yrs']\n"
     ]
    }
   ],
   "source": [
    "Total_exp =[]\n",
    "\n",
    "experinces =driver.find_elements(By.XPATH,'//span[@class=\"expwdth\"]')\n",
    "for i in experinces:\n",
    "    exp = i.text\n",
    "    Total_exp.append(exp)\n",
    "\n",
    "print(Total_exp)"
   ]
  },
  {
   "cell_type": "code",
   "execution_count": 140,
   "id": "81be5c36-a221-4635-916c-a984778fda0a",
   "metadata": {},
   "outputs": [
    {
     "name": "stdout",
     "output_type": "stream",
     "text": [
      "19\n"
     ]
    }
   ],
   "source": [
    "print(len(Total_exp))"
   ]
  },
  {
   "cell_type": "code",
   "execution_count": 144,
   "id": "99240d64-a895-4974-85db-32c27990b4b2",
   "metadata": {},
   "outputs": [
    {
     "data": {
      "text/html": [
       "<div>\n",
       "<style scoped>\n",
       "    .dataframe tbody tr th:only-of-type {\n",
       "        vertical-align: middle;\n",
       "    }\n",
       "\n",
       "    .dataframe tbody tr th {\n",
       "        vertical-align: top;\n",
       "    }\n",
       "\n",
       "    .dataframe thead th {\n",
       "        text-align: right;\n",
       "    }\n",
       "</style>\n",
       "<table border=\"1\" class=\"dataframe\">\n",
       "  <thead>\n",
       "    <tr style=\"text-align: right;\">\n",
       "      <th></th>\n",
       "      <th>job_title</th>\n",
       "      <th>job_location</th>\n",
       "      <th>Total_exp</th>\n",
       "      <th>company_name</th>\n",
       "    </tr>\n",
       "  </thead>\n",
       "  <tbody>\n",
       "    <tr>\n",
       "      <th>0</th>\n",
       "      <td>Data Science Analytics Analyst</td>\n",
       "      <td>Gurugram</td>\n",
       "      <td>2-5 Yrs</td>\n",
       "      <td>Accenture</td>\n",
       "    </tr>\n",
       "    <tr>\n",
       "      <th>1</th>\n",
       "      <td>S&amp;C Global Network - AI - Hi Tech - Data Scien...</td>\n",
       "      <td>Kolkata, Hyderabad, Gurugram</td>\n",
       "      <td>4-8 Yrs</td>\n",
       "      <td>Accenture</td>\n",
       "    </tr>\n",
       "    <tr>\n",
       "      <th>2</th>\n",
       "      <td>Analytics Data science and IOT Lead</td>\n",
       "      <td>Kolkata, Mumbai, New Delhi, Hyderabad, Pune, C...</td>\n",
       "      <td>1-7 Yrs</td>\n",
       "      <td>Hexaware Technologies</td>\n",
       "    </tr>\n",
       "    <tr>\n",
       "      <th>3</th>\n",
       "      <td>S&amp;C Global Network - AI - Hi Tech - Data Scien...</td>\n",
       "      <td>Gurugram</td>\n",
       "      <td>5-10 Yrs</td>\n",
       "      <td>Accenture</td>\n",
       "    </tr>\n",
       "    <tr>\n",
       "      <th>4</th>\n",
       "      <td>S&amp;C Global Network - AI - CMT - Analyst Data S...</td>\n",
       "      <td>Hyderabad, Gurugram, Bengaluru</td>\n",
       "      <td>5-9 Yrs</td>\n",
       "      <td>Accenture</td>\n",
       "    </tr>\n",
       "    <tr>\n",
       "      <th>5</th>\n",
       "      <td>Senior Analyst - Data Science</td>\n",
       "      <td>Gurugram</td>\n",
       "      <td>2-5 Yrs</td>\n",
       "      <td>AMERICAN EXPRESS</td>\n",
       "    </tr>\n",
       "    <tr>\n",
       "      <th>6</th>\n",
       "      <td>S&amp;C Global Network - AI - Life Sciences -Data ...</td>\n",
       "      <td>Delhi / NCR, Mumbai, Bengaluru</td>\n",
       "      <td>10-12 Yrs</td>\n",
       "      <td>Accenture</td>\n",
       "    </tr>\n",
       "    <tr>\n",
       "      <th>7</th>\n",
       "      <td>S&amp;C Global Network - AI - Life Sciences -Data ...</td>\n",
       "      <td>Gurugram</td>\n",
       "      <td>2-5 Yrs</td>\n",
       "      <td>Accenture</td>\n",
       "    </tr>\n",
       "    <tr>\n",
       "      <th>8</th>\n",
       "      <td>Data Science Engineer - Data Analyst/Scientist</td>\n",
       "      <td>Kolkata, Mumbai, New Delhi, Hyderabad, Pune, C...</td>\n",
       "      <td>1-5 Yrs</td>\n",
       "      <td>Response Informatics</td>\n",
       "    </tr>\n",
       "    <tr>\n",
       "      <th>9</th>\n",
       "      <td>Data Science Analyst (Senior)</td>\n",
       "      <td>Gurugram</td>\n",
       "      <td>6-8 Yrs</td>\n",
       "      <td>Infogain India (P) Ltd.</td>\n",
       "    </tr>\n",
       "  </tbody>\n",
       "</table>\n",
       "</div>"
      ],
      "text/plain": [
       "                                           job_title  \\\n",
       "0                     Data Science Analytics Analyst   \n",
       "1  S&C Global Network - AI - Hi Tech - Data Scien...   \n",
       "2                Analytics Data science and IOT Lead   \n",
       "3  S&C Global Network - AI - Hi Tech - Data Scien...   \n",
       "4  S&C Global Network - AI - CMT - Analyst Data S...   \n",
       "5                      Senior Analyst - Data Science   \n",
       "6  S&C Global Network - AI - Life Sciences -Data ...   \n",
       "7  S&C Global Network - AI - Life Sciences -Data ...   \n",
       "8     Data Science Engineer - Data Analyst/Scientist   \n",
       "9                      Data Science Analyst (Senior)   \n",
       "\n",
       "                                        job_location  Total_exp  \\\n",
       "0                                           Gurugram    2-5 Yrs   \n",
       "1                       Kolkata, Hyderabad, Gurugram    4-8 Yrs   \n",
       "2  Kolkata, Mumbai, New Delhi, Hyderabad, Pune, C...    1-7 Yrs   \n",
       "3                                           Gurugram   5-10 Yrs   \n",
       "4                     Hyderabad, Gurugram, Bengaluru    5-9 Yrs   \n",
       "5                                           Gurugram    2-5 Yrs   \n",
       "6                     Delhi / NCR, Mumbai, Bengaluru  10-12 Yrs   \n",
       "7                                           Gurugram    2-5 Yrs   \n",
       "8  Kolkata, Mumbai, New Delhi, Hyderabad, Pune, C...    1-5 Yrs   \n",
       "9                                           Gurugram    6-8 Yrs   \n",
       "\n",
       "              company_name  \n",
       "0                Accenture  \n",
       "1                Accenture  \n",
       "2    Hexaware Technologies  \n",
       "3                Accenture  \n",
       "4                Accenture  \n",
       "5         AMERICAN EXPRESS  \n",
       "6                Accenture  \n",
       "7                Accenture  \n",
       "8     Response Informatics  \n",
       "9  Infogain India (P) Ltd.  "
      ]
     },
     "execution_count": 144,
     "metadata": {},
     "output_type": "execute_result"
    }
   ],
   "source": [
    "DF = pd.DataFrame({'job_title':job_title,'job_location':job_location,'Total_exp':Total_exp,'company_name':company_name})\n",
    "DF.head(10)"
   ]
  },
  {
   "cell_type": "markdown",
   "id": "23a92910-0e25-41c4-a5ee-24c56f10eb9b",
   "metadata": {},
   "source": [
    "# ANS NO : 2"
   ]
  },
  {
   "cell_type": "code",
   "execution_count": 111,
   "id": "d8f556e2-bbaa-47e9-b38f-202ab9232475",
   "metadata": {},
   "outputs": [
    {
     "name": "stdout",
     "output_type": "stream",
     "text": [
      "Requirement already satisfied: selenium in c:\\users\\admin\\anaconda3\\lib\\site-packages (4.23.1)\n",
      "Requirement already satisfied: urllib3[socks]<3,>=1.26 in c:\\users\\admin\\anaconda3\\lib\\site-packages (from selenium) (1.26.16)\n",
      "Requirement already satisfied: trio~=0.17 in c:\\users\\admin\\anaconda3\\lib\\site-packages (from selenium) (0.26.2)\n",
      "Requirement already satisfied: trio-websocket~=0.9 in c:\\users\\admin\\anaconda3\\lib\\site-packages (from selenium) (0.11.1)\n",
      "Requirement already satisfied: certifi>=2021.10.8 in c:\\users\\admin\\anaconda3\\lib\\site-packages (from selenium) (2023.11.17)\n",
      "Requirement already satisfied: typing_extensions~=4.9 in c:\\users\\admin\\anaconda3\\lib\\site-packages (from selenium) (4.12.2)\n",
      "Requirement already satisfied: websocket-client~=1.8 in c:\\users\\admin\\anaconda3\\lib\\site-packages (from selenium) (1.8.0)\n",
      "Requirement already satisfied: attrs>=23.2.0 in c:\\users\\admin\\anaconda3\\lib\\site-packages (from trio~=0.17->selenium) (24.2.0)\n",
      "Requirement already satisfied: sortedcontainers in c:\\users\\admin\\anaconda3\\lib\\site-packages (from trio~=0.17->selenium) (2.4.0)\n",
      "Requirement already satisfied: idna in c:\\users\\admin\\anaconda3\\lib\\site-packages (from trio~=0.17->selenium) (3.4)\n",
      "Requirement already satisfied: outcome in c:\\users\\admin\\anaconda3\\lib\\site-packages (from trio~=0.17->selenium) (1.3.0.post0)\n",
      "Requirement already satisfied: sniffio>=1.3.0 in c:\\users\\admin\\anaconda3\\lib\\site-packages (from trio~=0.17->selenium) (1.3.1)\n",
      "Requirement already satisfied: cffi>=1.14 in c:\\users\\admin\\anaconda3\\lib\\site-packages (from trio~=0.17->selenium) (1.15.1)\n",
      "Requirement already satisfied: wsproto>=0.14 in c:\\users\\admin\\anaconda3\\lib\\site-packages (from trio-websocket~=0.9->selenium) (1.2.0)\n",
      "Requirement already satisfied: PySocks!=1.5.7,<2.0,>=1.5.6 in c:\\users\\admin\\anaconda3\\lib\\site-packages (from urllib3[socks]<3,>=1.26->selenium) (1.7.1)\n",
      "Requirement already satisfied: pycparser in c:\\users\\admin\\anaconda3\\lib\\site-packages (from cffi>=1.14->trio~=0.17->selenium) (2.21)\n",
      "Requirement already satisfied: h11<1,>=0.9.0 in c:\\users\\admin\\anaconda3\\lib\\site-packages (from wsproto>=0.14->trio-websocket~=0.9->selenium) (0.14.0)\n"
     ]
    }
   ],
   "source": [
    "!pip install selenium"
   ]
  },
  {
   "cell_type": "code",
   "execution_count": 112,
   "id": "2b070e76-3132-481c-816c-9f87c6dce93c",
   "metadata": {},
   "outputs": [],
   "source": [
    "import selenium\n",
    "import pandas as pd\n",
    "import time\n",
    "from selenium import webdriver\n",
    "import warnings\n",
    "warnings.filterwarnings('ignore')\n",
    "from selenium.webdriver.common.by import By"
   ]
  },
  {
   "cell_type": "code",
   "execution_count": 113,
   "id": "207b1c0e-609f-43aa-be60-2ebc6605c640",
   "metadata": {},
   "outputs": [],
   "source": [
    "driver = webdriver.Chrome()"
   ]
  },
  {
   "cell_type": "code",
   "execution_count": 114,
   "id": "07aac885-1403-4d79-b502-d44b178105b6",
   "metadata": {},
   "outputs": [],
   "source": [
    "driver.get(\" https://www.shine.com/\")"
   ]
  },
  {
   "cell_type": "code",
   "execution_count": 116,
   "id": "598e5623-fe28-4bbd-8b94-48604dd974c6",
   "metadata": {},
   "outputs": [],
   "source": [
    "designation =driver.find_element(By.XPATH,'//input[@class=\"form-control  \"]')\n",
    "designation.send_keys('Data Scientist')"
   ]
  },
  {
   "cell_type": "code",
   "execution_count": 117,
   "id": "c5fa0deb-a604-43f1-a2de-2ad9ad3a15fa",
   "metadata": {},
   "outputs": [],
   "source": [
    "location =driver.find_element(By.XPATH,'//li[@class=\"searchForm_search_item__hr6Du form-group\"]/div/input')\n",
    "location.send_keys('Banglore')"
   ]
  },
  {
   "cell_type": "code",
   "execution_count": 118,
   "id": "3a29bf96-1631-433f-aa1a-c24144f24945",
   "metadata": {},
   "outputs": [
    {
     "name": "stdout",
     "output_type": "stream",
     "text": [
      "['Lead Data Scientist', 'Data Scientist', 'Data Scientist', 'Data Scientist', 'Data Scientist', 'Data Science Analytics', 'Data Science Manager', 'Data Management Team Leader', 'Healthcare Data Analyst', 'Senior Data Analyst', 'Data Modeler', 'Senior Data Engineer', 'Opening for HR Analytics Power BI, Data Anlytics', 'AWS data Engineer', 'Data Analyst , Senior Data Analyst , Data Analyst - Tec ...', 'AI ML Developer', 'Clinical Data Specialist', 'VP - Data & Platform Engineering & AI (Leading MNC IT C ...', 'Urgent Hiring For Data Analyst', 'Data Science with R Studio']\n"
     ]
    }
   ],
   "source": [
    "job_title =[]\n",
    "\n",
    "titles = driver.find_elements(By.XPATH,'//strong[@class=\"jobCard_pReplaceH2__xWmHg\"]')\n",
    "for i in titles:\n",
    "    title = i.text\n",
    "    job_title.append(title)\n",
    "\n",
    "print(job_title)"
   ]
  },
  {
   "cell_type": "code",
   "execution_count": 119,
   "id": "51857a9a-910a-4511-a5bb-531f434b5db5",
   "metadata": {},
   "outputs": [
    {
     "name": "stdout",
     "output_type": "stream",
     "text": [
      "20\n"
     ]
    }
   ],
   "source": [
    "print(len(job_title))"
   ]
  },
  {
   "cell_type": "code",
   "execution_count": 120,
   "id": "3481920b-78e8-4178-b72d-606e59e0c68a",
   "metadata": {},
   "outputs": [
    {
     "name": "stdout",
     "output_type": "stream",
     "text": [
      "['Gurugram\\n+8', 'Bangalore\\n+9', 'Bangalore', 'Bangalore\\n+2', 'Mumbai City\\n+9', 'Gurugram\\n+7', 'Gurugram\\n+7', 'Gurugram\\n+9', 'Gurugram\\n+8', 'Gurugram\\n+8', 'Bangalore', 'Bangalore', 'Bangalore', 'Bangalore\\n+2', 'Gurugram\\n+8', 'Bangalore', 'Gurugram\\n+8', 'Bangalore\\n+2', 'Bangalore\\n+2', 'Bhubaneswar\\n+4']\n"
     ]
    }
   ],
   "source": [
    "job_location =[]\n",
    "\n",
    "job_locations =driver.find_elements(By.XPATH,'//div[@class=\"jobCard_jobCard_lists_item__YxRkV jobCard_locationIcon__zrWt2\"]')\n",
    "for i in job_locations:\n",
    "    job_loc = i.text\n",
    "    job_location.append(job_loc)\n",
    "\n",
    "print(job_location)"
   ]
  },
  {
   "cell_type": "code",
   "execution_count": 121,
   "id": "6fa60cb3-1daf-418f-8ea9-432523ce8795",
   "metadata": {},
   "outputs": [
    {
     "name": "stdout",
     "output_type": "stream",
     "text": [
      "20\n"
     ]
    }
   ],
   "source": [
    "print(len(job_location))"
   ]
  },
  {
   "cell_type": "code",
   "execution_count": 122,
   "id": "232f57de-a105-4336-82a2-e5f4bca7c97a",
   "metadata": {},
   "outputs": [
    {
     "name": "stdout",
     "output_type": "stream",
     "text": [
      "['spento papers (india) llp', 'future solution centre', 'eliterecruitments hiring for global...', \"the christopher's consulting and re...\", 'divya staffing solution', 'mackenzie modern it solutions priva...', 'mackenzie modern it solutions priva...', 'overnet trading private limited', 'spento papers (india) llp', 'gallagher and mohan private limited', 'ntech it solutions private limited', 'i-vintage solutions pvt. ltd.', 'personal network.', 'integrated personnel services limit...', 'appsoft solutions', 'aquilasys consultancy private limit...', 'techno endura', 'vertex corporate services india pvt...', 'diraa hr services hiring for diraa ...', 'integrated personnel services limit...']\n"
     ]
    }
   ],
   "source": [
    "company_name =[]\n",
    "\n",
    "companies =driver.find_elements(By.XPATH,'//div[@class=\"jobCard_jobCard_cName__mYnow\"]')\n",
    "for i in companies:\n",
    "    company = i.text\n",
    "    company_name.append(company)\n",
    "\n",
    "print(company_name)"
   ]
  },
  {
   "cell_type": "code",
   "execution_count": 123,
   "id": "911d7bfe-b488-44e7-82de-00443e280fd6",
   "metadata": {},
   "outputs": [
    {
     "name": "stdout",
     "output_type": "stream",
     "text": [
      "20\n"
     ]
    }
   ],
   "source": [
    "print(len(company_name))"
   ]
  },
  {
   "cell_type": "code",
   "execution_count": 124,
   "id": "9766f9cb-ab96-48b8-bfdf-d441e850d9da",
   "metadata": {},
   "outputs": [
    {
     "name": "stdout",
     "output_type": "stream",
     "text": [
      "['12 to 22 Yrs', '2 to 7 Yrs', '4 to 8 Yrs', '0 to 2 Yrs', '0 to 4 Yrs', '5 to 8 Yrs', '3 to 8 Yrs', '0 to 4 Yrs', '8 to 13 Yrs', '2 to 7 Yrs', '8 to 13 Yrs', '7 to 9 Yrs', '3 to 8 Yrs', '4 to 9 Yrs', '0 to 4 Yrs', '9 to 12 Yrs', '0 to 2 Yrs', '20 to >25 Yrs', '0 to 4 Yrs', '4 to 9 Yrs']\n"
     ]
    }
   ],
   "source": [
    "total_experiance =[]\n",
    "\n",
    "experiance =driver.find_elements(By.XPATH,'//div[@class=\" jobCard_jobCard_lists_item__YxRkV jobCard_jobIcon__3FB1t\"]')\n",
    "for i in experiance:\n",
    "    exp = i.text\n",
    "    total_experiance.append(exp)\n",
    "\n",
    "print(total_experiance)"
   ]
  },
  {
   "cell_type": "code",
   "execution_count": 125,
   "id": "16b37f3d-91c1-4fcd-9d03-e9656fd417c7",
   "metadata": {},
   "outputs": [
    {
     "name": "stdout",
     "output_type": "stream",
     "text": [
      "20\n"
     ]
    }
   ],
   "source": [
    "print(len(total_experiance))"
   ]
  },
  {
   "cell_type": "code",
   "execution_count": 126,
   "id": "3deac1dd-c0aa-42bb-9d0f-ad9c0247e361",
   "metadata": {},
   "outputs": [
    {
     "data": {
      "text/html": [
       "<div>\n",
       "<style scoped>\n",
       "    .dataframe tbody tr th:only-of-type {\n",
       "        vertical-align: middle;\n",
       "    }\n",
       "\n",
       "    .dataframe tbody tr th {\n",
       "        vertical-align: top;\n",
       "    }\n",
       "\n",
       "    .dataframe thead th {\n",
       "        text-align: right;\n",
       "    }\n",
       "</style>\n",
       "<table border=\"1\" class=\"dataframe\">\n",
       "  <thead>\n",
       "    <tr style=\"text-align: right;\">\n",
       "      <th></th>\n",
       "      <th>job_title</th>\n",
       "      <th>job_location</th>\n",
       "      <th>company_name</th>\n",
       "      <th>total_experiance</th>\n",
       "    </tr>\n",
       "  </thead>\n",
       "  <tbody>\n",
       "    <tr>\n",
       "      <th>0</th>\n",
       "      <td>Lead Data Scientist</td>\n",
       "      <td>Gurugram\\n+8</td>\n",
       "      <td>spento papers (india) llp</td>\n",
       "      <td>12 to 22 Yrs</td>\n",
       "    </tr>\n",
       "    <tr>\n",
       "      <th>1</th>\n",
       "      <td>Data Scientist</td>\n",
       "      <td>Bangalore\\n+9</td>\n",
       "      <td>future solution centre</td>\n",
       "      <td>2 to 7 Yrs</td>\n",
       "    </tr>\n",
       "    <tr>\n",
       "      <th>2</th>\n",
       "      <td>Data Scientist</td>\n",
       "      <td>Bangalore</td>\n",
       "      <td>eliterecruitments hiring for global...</td>\n",
       "      <td>4 to 8 Yrs</td>\n",
       "    </tr>\n",
       "    <tr>\n",
       "      <th>3</th>\n",
       "      <td>Data Scientist</td>\n",
       "      <td>Bangalore\\n+2</td>\n",
       "      <td>the christopher's consulting and re...</td>\n",
       "      <td>0 to 2 Yrs</td>\n",
       "    </tr>\n",
       "    <tr>\n",
       "      <th>4</th>\n",
       "      <td>Data Scientist</td>\n",
       "      <td>Mumbai City\\n+9</td>\n",
       "      <td>divya staffing solution</td>\n",
       "      <td>0 to 4 Yrs</td>\n",
       "    </tr>\n",
       "    <tr>\n",
       "      <th>5</th>\n",
       "      <td>Data Science Analytics</td>\n",
       "      <td>Gurugram\\n+7</td>\n",
       "      <td>mackenzie modern it solutions priva...</td>\n",
       "      <td>5 to 8 Yrs</td>\n",
       "    </tr>\n",
       "    <tr>\n",
       "      <th>6</th>\n",
       "      <td>Data Science Manager</td>\n",
       "      <td>Gurugram\\n+7</td>\n",
       "      <td>mackenzie modern it solutions priva...</td>\n",
       "      <td>3 to 8 Yrs</td>\n",
       "    </tr>\n",
       "    <tr>\n",
       "      <th>7</th>\n",
       "      <td>Data Management Team Leader</td>\n",
       "      <td>Gurugram\\n+9</td>\n",
       "      <td>overnet trading private limited</td>\n",
       "      <td>0 to 4 Yrs</td>\n",
       "    </tr>\n",
       "    <tr>\n",
       "      <th>8</th>\n",
       "      <td>Healthcare Data Analyst</td>\n",
       "      <td>Gurugram\\n+8</td>\n",
       "      <td>spento papers (india) llp</td>\n",
       "      <td>8 to 13 Yrs</td>\n",
       "    </tr>\n",
       "    <tr>\n",
       "      <th>9</th>\n",
       "      <td>Senior Data Analyst</td>\n",
       "      <td>Gurugram\\n+8</td>\n",
       "      <td>gallagher and mohan private limited</td>\n",
       "      <td>2 to 7 Yrs</td>\n",
       "    </tr>\n",
       "  </tbody>\n",
       "</table>\n",
       "</div>"
      ],
      "text/plain": [
       "                     job_title     job_location  \\\n",
       "0          Lead Data Scientist     Gurugram\\n+8   \n",
       "1               Data Scientist    Bangalore\\n+9   \n",
       "2               Data Scientist        Bangalore   \n",
       "3               Data Scientist    Bangalore\\n+2   \n",
       "4               Data Scientist  Mumbai City\\n+9   \n",
       "5       Data Science Analytics     Gurugram\\n+7   \n",
       "6         Data Science Manager     Gurugram\\n+7   \n",
       "7  Data Management Team Leader     Gurugram\\n+9   \n",
       "8      Healthcare Data Analyst     Gurugram\\n+8   \n",
       "9          Senior Data Analyst     Gurugram\\n+8   \n",
       "\n",
       "                             company_name total_experiance  \n",
       "0               spento papers (india) llp     12 to 22 Yrs  \n",
       "1                  future solution centre       2 to 7 Yrs  \n",
       "2  eliterecruitments hiring for global...       4 to 8 Yrs  \n",
       "3  the christopher's consulting and re...       0 to 2 Yrs  \n",
       "4                 divya staffing solution       0 to 4 Yrs  \n",
       "5  mackenzie modern it solutions priva...       5 to 8 Yrs  \n",
       "6  mackenzie modern it solutions priva...       3 to 8 Yrs  \n",
       "7         overnet trading private limited       0 to 4 Yrs  \n",
       "8               spento papers (india) llp      8 to 13 Yrs  \n",
       "9     gallagher and mohan private limited       2 to 7 Yrs  "
      ]
     },
     "execution_count": 126,
     "metadata": {},
     "output_type": "execute_result"
    }
   ],
   "source": [
    "df= pd.DataFrame({'job_title':job_title,'job_location':job_location ,'company_name':company_name,'total_experiance':total_experiance})\n",
    "\n",
    "df.head(10)"
   ]
  },
  {
   "cell_type": "code",
   "execution_count": null,
   "id": "31966eff-3805-48a3-8d52-44e3930e02eb",
   "metadata": {},
   "outputs": [],
   "source": []
  },
  {
   "cell_type": "code",
   "execution_count": null,
   "id": "6841fbab-f52b-42df-8603-b4f382d1e174",
   "metadata": {},
   "outputs": [],
   "source": []
  },
  {
   "cell_type": "code",
   "execution_count": null,
   "id": "54bf55d6-a92e-4ce7-bdbb-9a5ef8b74bc7",
   "metadata": {},
   "outputs": [],
   "source": []
  }
 ],
 "metadata": {
  "kernelspec": {
   "display_name": "Python 3 (ipykernel)",
   "language": "python",
   "name": "python3"
  },
  "language_info": {
   "codemirror_mode": {
    "name": "ipython",
    "version": 3
   },
   "file_extension": ".py",
   "mimetype": "text/x-python",
   "name": "python",
   "nbconvert_exporter": "python",
   "pygments_lexer": "ipython3",
   "version": "3.11.5"
  }
 },
 "nbformat": 4,
 "nbformat_minor": 5
}
